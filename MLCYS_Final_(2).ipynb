{
  "nbformat": 4,
  "nbformat_minor": 0,
  "metadata": {
    "colab": {
      "name": "MLCYS_Final (2).ipynb",
      "provenance": []
    },
    "kernelspec": {
      "name": "python3",
      "display_name": "Python 3"
    },
    "language_info": {
      "name": "python"
    },
    "accelerator": "GPU"
  },
  "cells": [
    {
      "cell_type": "code",
      "source": [
        "from google.colab import drive\n",
        "drive.mount('/content/drive')"
      ],
      "metadata": {
        "colab": {
          "base_uri": "https://localhost:8080/"
        },
        "id": "Gop7LX-dpwAL",
        "outputId": "6635ad23-5414-4f20-c1f6-d9c034bd8d3f"
      },
      "execution_count": null,
      "outputs": [
        {
          "output_type": "stream",
          "name": "stdout",
          "text": [
            "Drive already mounted at /content/drive; to attempt to forcibly remount, call drive.mount(\"/content/drive\", force_remount=True).\n"
          ]
        }
      ]
    },
    {
      "cell_type": "code",
      "source": [
        "cd /content/drive/MyDrive/AnalysisBySynthesis-master"
      ],
      "metadata": {
        "colab": {
          "base_uri": "https://localhost:8080/"
        },
        "id": "xignveiqqpg_",
        "outputId": "496e9df8-0ff8-43fd-82d0-d780f9f783a1"
      },
      "execution_count": null,
      "outputs": [
        {
          "output_type": "stream",
          "name": "stdout",
          "text": [
            "/content/drive/MyDrive/AnalysisBySynthesis-master\n"
          ]
        }
      ]
    },
    {
      "cell_type": "code",
      "source": [
        "!pip install foolbox"
      ],
      "metadata": {
        "id": "YZf0S0cirDBT"
      },
      "execution_count": null,
      "outputs": []
    },
    {
      "cell_type": "code",
      "source": [
        "!pip install tensorboardX"
      ],
      "metadata": {
        "colab": {
          "base_uri": "https://localhost:8080/"
        },
        "id": "RArDU9HQWFYi",
        "outputId": "29d699dc-7f85-482e-95bd-8dee23d58c2a"
      },
      "execution_count": null,
      "outputs": [
        {
          "output_type": "stream",
          "name": "stdout",
          "text": [
            "Collecting tensorboardX\n",
            "  Downloading tensorboardX-2.4.1-py2.py3-none-any.whl (124 kB)\n",
            "\u001b[?25l\r\u001b[K     |██▋                             | 10 kB 22.4 MB/s eta 0:00:01\r\u001b[K     |█████▎                          | 20 kB 8.2 MB/s eta 0:00:01\r\u001b[K     |███████▉                        | 30 kB 7.4 MB/s eta 0:00:01\r\u001b[K     |██████████▌                     | 40 kB 6.9 MB/s eta 0:00:01\r\u001b[K     |█████████████▏                  | 51 kB 4.2 MB/s eta 0:00:01\r\u001b[K     |███████████████▊                | 61 kB 4.3 MB/s eta 0:00:01\r\u001b[K     |██████████████████▍             | 71 kB 4.3 MB/s eta 0:00:01\r\u001b[K     |█████████████████████           | 81 kB 4.8 MB/s eta 0:00:01\r\u001b[K     |███████████████████████▋        | 92 kB 5.0 MB/s eta 0:00:01\r\u001b[K     |██████████████████████████▎     | 102 kB 4.1 MB/s eta 0:00:01\r\u001b[K     |█████████████████████████████   | 112 kB 4.1 MB/s eta 0:00:01\r\u001b[K     |███████████████████████████████▌| 122 kB 4.1 MB/s eta 0:00:01\r\u001b[K     |████████████████████████████████| 124 kB 4.1 MB/s \n",
            "\u001b[?25hRequirement already satisfied: protobuf>=3.8.0 in /usr/local/lib/python3.7/dist-packages (from tensorboardX) (3.17.3)\n",
            "Requirement already satisfied: numpy in /usr/local/lib/python3.7/dist-packages (from tensorboardX) (1.19.5)\n",
            "Requirement already satisfied: six>=1.9 in /usr/local/lib/python3.7/dist-packages (from protobuf>=3.8.0->tensorboardX) (1.15.0)\n",
            "Installing collected packages: tensorboardX\n",
            "Successfully installed tensorboardX-2.4.1\n"
          ]
        }
      ]
    },
    {
      "cell_type": "code",
      "execution_count": null,
      "metadata": {
        "id": "Xa4ifBLiCC6-"
      },
      "outputs": [],
      "source": [
        "from itertools import repeat, chain, islice\n",
        "from torch.utils.data import Sampler\n",
        "import argparse\n",
        "import torch\n",
        "from os.path import join\n",
        "import numpy as np\n",
        "from torch.utils.data import DataLoader, SubsetRandomSampler\n",
        "from torchvision import datasets, transforms\n",
        "import warnings\n",
        "import tqdm\n",
        "from torchvision.utils import make_grid\n",
        "from torch import nn, optim\n",
        "from tensorboardX import SummaryWriter\n",
        "import torchvision\n",
        "import matplotlib.pyplot as plt\n",
        "import sys\n",
        "sys.argv=['']\n",
        "del sys\n",
        "import os\n",
        "from torch.autograd import Variable\n"
      ]
    },
    {
      "cell_type": "code",
      "source": [
        "batch_size=128\n",
        "test_batch_size=32\n",
        "epochs=5\n",
        "lr=0.001\n",
        "momentum=0.5\n",
        "log_interval=10\n",
        "seed=1"
      ],
      "metadata": {
        "id": "_DhpNWKzD9fG"
      },
      "execution_count": null,
      "outputs": []
    },
    {
      "cell_type": "code",
      "source": [
        "transform = transforms.Compose([transforms.ToTensor(), transforms.Grayscale(num_output_channels=1)\n",
        "                                ])\n",
        "train_dataset = datasets.CIFAR10(root= '../data', train=True, transform=transform, download=True)\n",
        "test_dataset = datasets.CIFAR10(root= '../data', train=False, transform=transform, download=True)\n",
        "num_train = len(train_dataset)\n",
        "indices = list(range(num_train))\n",
        "split = int(np.floor(0.1 * num_train))\n",
        "train_idx, valid_idx = indices[split:], indices[:split]\n",
        "train_sampler = SubsetRandomSampler(train_idx)\n",
        "valid_sampler = SubsetRandomSampler(valid_idx)\n",
        "train_loader = torch.utils.data.DataLoader(train_dataset, batch_size=batch_size, sampler=train_sampler)\n",
        "valid_loader = torch.utils.data.DataLoader(train_dataset, batch_size=test_batch_size, sampler=valid_sampler)\n",
        "test_loader = torch.utils.data.DataLoader(test_dataset, batch_size=test_batch_size, shuffle= True)"
      ],
      "metadata": {
        "colab": {
          "base_uri": "https://localhost:8080/"
        },
        "id": "wjNEDsebCKHs",
        "outputId": "6d25d5db-9959-40ee-8410-177ac890ad95"
      },
      "execution_count": null,
      "outputs": [
        {
          "output_type": "stream",
          "name": "stdout",
          "text": [
            "Files already downloaded and verified\n",
            "Files already downloaded and verified\n"
          ]
        }
      ]
    },
    {
      "cell_type": "code",
      "source": [
        "##Loss Function#####\n",
        "######\n",
        "#######\n",
        "\n",
        "def samplewise_loss_function(x, rec_x, mu, logvar, beta):\n",
        "    \"\"\"This is the loss function used during inference to calculate the logits.\n",
        "    This function must only operate on the last the dimensions of x and rec_x.\n",
        "    There can be varying number of additional dimensions before them!\n",
        "    \"\"\"\n",
        "    input_size = int(np.prod(x.shape[-3:]))\n",
        "    if len(x.shape) == 5 and len(rec_x.shape) == 5 and x.shape[1] == 1 and rec_x.shape[0] == 1:\n",
        "        # alternative implementation that is much faster and more memory efficient\n",
        "        # when each sample in x needs to be compared to each sample in rec_x\n",
        "        assert x.shape[-3:] == rec_x.shape[-3:]\n",
        "        x = x.reshape(x.shape[0], input_size)\n",
        "        y = rec_x.reshape(rec_x.shape[1], input_size)\n",
        "\n",
        "        x2 = torch.norm(x, p=2, dim=-1, keepdim=True).pow(2)\n",
        "        y2 = torch.norm(y, p=2, dim=-1, keepdim=True).pow(2)\n",
        "        # note that we could cache the calculation of y2, but\n",
        "        # it's so fast that it doesn't matter\n",
        "\n",
        "        L2squared = x2 + y2.t() - 2 * torch.mm(x, y.t())\n",
        "        L2squared = L2squared / input_size\n",
        "    else:\n",
        "        if len(x.shape) != 4 or x.shape != rec_x.shape:\n",
        "            warnings.warn('samplewise_loss_function possibly not been optimized for this')\n",
        "            raise\n",
        "\n",
        "        d = rec_x - x\n",
        "        d.pow_(2)\n",
        "        L2squared = d.sum((-1, -2, -3)) / input_size\n",
        "    KLD = -0.5 * torch.sum(1 + logvar - mu.pow(2) - logvar.exp(), dim=((-1, -2, -3))) / input_size\n",
        "    # note that the KLD sum is over the latents, not over the input size\n",
        "    return L2squared + beta * KLD\n",
        "\n",
        "\n",
        "def vae_loss_function(x, rec_x, mu, logvar, beta):\n",
        "    \"\"\"Loss function to train a VAE summed over all elements and batch.\"\"\"\n",
        "\n",
        "    L2squared = torch.sum((rec_x - x).pow(2))\n",
        "    KLD = -0.5 * torch.sum(1 + logvar - mu.pow(2) - logvar.exp())\n",
        "    return L2squared + beta * KLD\n",
        "\n",
        "\n",
        "def abs_loss_function(x, labels, recs, mus, logvars, beta):\n",
        "    \"\"\"Loss function of the full ABS model\n",
        "    Args:\n",
        "        x (Tensor): batch of inputs\n",
        "        labels (Tensor): batch of labels corresponding to the inputs\n",
        "        recs (Tensor): reconstruction from each VAE (dim 0) for each sample (dim 1)\n",
        "        mus (Tensor): mu from each VAE (dim 0) for each sample (dim 1)\n",
        "        logvars (Tensor): logvar from each VAE (dim 0) for each sample (dim 1)\n",
        "    \"\"\"\n",
        "    N = len(x)\n",
        "    C = len(recs)\n",
        "\n",
        "    assert labels.size() == (N,)\n",
        "    assert recs.size()[:2] == (C, N)\n",
        "    assert mus.size()[:2] == (C, N)\n",
        "    assert logvars.size()[:2] == (C, N)\n",
        "\n",
        "    assert labels.min().item() >= 0\n",
        "    assert labels.max().item() < C\n",
        "\n",
        "    loss = 0\n",
        "    for c, rec, mu, logvar in zip(range(C), recs, mus, logvars):\n",
        "        # train each VAE on samples from one class\n",
        "        mask = (labels == c)\n",
        "        if mask.sum().item() == 0:\n",
        "            # batch does not contain samples for this VAE\n",
        "            continue\n",
        "        loss += vae_loss_function(x[mask], rec[mask], mu[mask], logvar[mask], beta) / N\n",
        "    return loss"
      ],
      "metadata": {
        "id": "X65gYNouJ70K"
      },
      "execution_count": null,
      "outputs": []
    },
    {
      "cell_type": "code",
      "source": [
        "class RobustInference(nn.Module):\n",
        "    \"\"\"Takes a trained ABS model and replaces its variational inference\n",
        "    with robust inference.\"\"\"\n",
        "\n",
        "    def __init__(self, abs_model, device, n_samples, n_iterations, *, fraction_to_dismiss, lr, radius):\n",
        "        super().__init__()\n",
        "\n",
        "        self.abs = abs_model\n",
        "        self.vaes = abs_model.vaes\n",
        "        self.lr = lr\n",
        "        self.beta = abs_model.beta\n",
        "        self.radius = radius\n",
        "        self.name = f'{n_samples}_{n_iterations}'\n",
        "\n",
        "        # create a set of random latents that we will reuse\n",
        "        n_latents = self.vaes[0].n_latents\n",
        "        self.z = self.draw_random_latents(n_samples, n_latents, fraction_to_dismiss).to(device)\n",
        "\n",
        "        # assuming that z's were sampled from a normal distribution with mean = z, var = 1\n",
        "        # note that we haven't acutally sampled z; instead z is simply mu\n",
        "        self.mu = self.z\n",
        "        self.logvar = torch.tensor(0.).to(device)\n",
        "\n",
        "        self.cached_reconstructions = {}\n",
        "\n",
        "        assert n_iterations >= 0, 'n_iterations must be non-negative'\n",
        "        self.gradient_descent_iterations = n_iterations\n",
        "\n",
        "    @staticmethod\n",
        "    def draw_random_latents(n_samples, n_latents, fraction_to_dismiss):\n",
        "        assert 0 <= fraction_to_dismiss < 1\n",
        "\n",
        "        z = torch.randn(int(n_samples / (1 - fraction_to_dismiss)), n_latents, 1, 1)\n",
        "\n",
        "        if z.size()[0] > n_samples:\n",
        "            # ignore the least likely samples\n",
        "            d = torch.sum(z ** 2, dim=(1, 2, 3))\n",
        "            _, best = torch.sort(d)\n",
        "            best = best[:n_samples]\n",
        "            z = z[best]\n",
        "\n",
        "        return z\n",
        "\n",
        "    @staticmethod\n",
        "    def clip_to_sphere_(z, radius):\n",
        "        \"\"\"Clips latents to a sphere. Operates in-place!\n",
        "        This function assumes that the shape of z is\n",
        "        (n_classes, batch_size, *latents_shape)\"\"\"\n",
        "\n",
        "        if radius == np.inf:\n",
        "            return\n",
        "\n",
        "        # flatten the latent dimensions because torch.norm only works on one\n",
        "        zr = z.reshape(z.size()[:2] + (-1,))\n",
        "\n",
        "        length = torch.norm(zr, p=2, dim=2)\n",
        "\n",
        "        # determine latents that are larger than desired\n",
        "        mask = length > radius\n",
        "\n",
        "        # add missing singleton dimensions to the end\n",
        "        length = length.view(length.size() + (1,) * (z.dim() - length.dim()))\n",
        "\n",
        "        z[mask] = z[mask] / length[mask] * radius\n",
        "\n",
        "    def invalidate_cache(self):\n",
        "        self.cached_reconstructions = {}\n",
        "\n",
        "    def forward(self, x):\n",
        "        \"\"\"This performs robust inference by finding the optimal latents for\n",
        "        each VAE using optimization rather than the encoder network.\"\"\"\n",
        "\n",
        "        with torch.no_grad():\n",
        "            losses = []\n",
        "            recs = []\n",
        "            mus = []\n",
        "            for vae in self.vaes:\n",
        "                # pass the random latents through the VAEs\n",
        "                if vae not in self.cached_reconstructions:\n",
        "                    self.cached_reconstructions[vae] = vae.decoder(self.z)\n",
        "                rec = self.cached_reconstructions[vae]\n",
        "\n",
        "                # determine the best latents for each sample in x given this VAE\n",
        "                # -> add a second batch dimension to x that will be broadcasted to the number of reconstructions\n",
        "                # -> add a second batch dimension to rec that will be broadcasted to the number of inputs in x\n",
        "                loss = samplewise_loss_function(x.unsqueeze(1), rec.unsqueeze(0), self.mu, self.logvar, self.beta)\n",
        "                assert loss.dim() == 2\n",
        "                # take min over samples in z\n",
        "                loss, indices = loss.min(dim=1)\n",
        "\n",
        "                losses.append(loss)\n",
        "                recs.append(rec[indices])\n",
        "                mus.append(self.mu[indices])\n",
        "\n",
        "            mus = torch.stack(mus)\n",
        "\n",
        "            if self.gradient_descent_iterations > 0:\n",
        "                # for each sample and VAE, try to improve the best latents\n",
        "                # further using gradient descent\n",
        "                mus = self.gradient_descent(x, mus)\n",
        "\n",
        "                # update losses and recs\n",
        "                recs = [vae.decoder(mu) for vae, mu in zip(self.vaes, mus)]\n",
        "                losses = [samplewise_loss_function(x, rec, mu, self.logvar, self.beta)\n",
        "                          for rec, mu in zip(recs, mus)]\n",
        "\n",
        "            recs = torch.stack(recs)\n",
        "            losses = torch.stack(losses)\n",
        "\n",
        "            logits = -losses.transpose(0, 1)\n",
        "            logvars = torch.zeros_like(mus)\n",
        "            return logits, recs, mus, logvars\n",
        "\n",
        "    def gradient_descent(self, x, z):\n",
        "        with torch.enable_grad():\n",
        "            # create a completely independent copy of z\n",
        "            z = torch.tensor(z, requires_grad=True).to(z.device)\n",
        "            optimizer = optim.Adam([z], lr=self.lr)\n",
        "\n",
        "            for j in range(self.gradient_descent_iterations):\n",
        "                optimizer.zero_grad()\n",
        "\n",
        "                for vae, zi in zip(self.vaes, z):\n",
        "                    rec = vae.decoder(zi)\n",
        "                    loss = samplewise_loss_function(x, rec, zi, self.logvar, self.beta).sum()\n",
        "                    loss.backward()\n",
        "\n",
        "                optimizer.step()\n",
        "\n",
        "                # must operate on .data because PyTorch doesn't allow\n",
        "                # in-place modifications of a leaf Variable itself\n",
        "                self.clip_to_sphere_(z.data, radius=self.radius)\n",
        "        return z\n",
        "        "
      ],
      "metadata": {
        "id": "Xhx6bLnFW3rA"
      },
      "execution_count": null,
      "outputs": []
    },
    {
      "cell_type": "code",
      "source": [
        "def get_args():\n",
        "    parser = argparse.ArgumentParser(description='Analysis by Synthesis Model')\n",
        "\n",
        "    parser.add_argument('--test-only', action='store_true', default=False,\n",
        "                        help='same as --initial-evaluation --epochs 0')\n",
        "\n",
        "    # control loading and saving\n",
        "    parser.add_argument('--logdir', default=None, type=str,\n",
        "                        help='path to the TensorBoard log directory (default: None)')\n",
        "    parser.add_argument('--load', default=None, type=str,\n",
        "                        help='file from which the model should be loaded')\n",
        "    parser.add_argument('--save', default=None, type=str,\n",
        "                        help='file to which the model should be saved (in addition to logdir)')\n",
        "\n",
        "    # control training\n",
        "    parser.add_argument('--epochs', type=int, default=10, metavar='N',\n",
        "                        help='number of epochs to train (default: 10)')\n",
        "    parser.add_argument('--batch-size', type=int, default=128, metavar='N',\n",
        "                        help='input batch size for training (default: 128)')\n",
        "    parser.add_argument('--lr', type=float, default=3e-3, metavar='alpha',\n",
        "                        help='learning rate for training')\n",
        "\n",
        "    # control loss function\n",
        "    parser.add_argument('--beta', type=float, default=1,\n",
        "                        help='scaling factor for the KLD loss term')\n",
        "\n",
        "    # control logging and evaluation\n",
        "    parser.add_argument('--initial-evaluation', action='store_true', default=False,\n",
        "                        help='perform an initial evaluation before training')\n",
        "    parser.add_argument('--log-interval', type=int, default=10, metavar='N',\n",
        "                        help='how many batches to wait before logging training status')\n",
        "    parser.add_argument('--epochs-full-evaluation', type=int, default=10, metavar='N',\n",
        "                        help='how many epochs to wait before a full (expensive) evaluation')\n",
        "\n",
        "    # control dataset\n",
        "    parser.add_argument('--dataset', default='cifar', type=str,\n",
        "                        help='dataset to use, e.g. mnist, cifar, gtsrb (default:mnist)')\n",
        "    parser.add_argument('--no-balancing', action='store_true', default=False,\n",
        "                        help='disables class balancing in batches')\n",
        "    parser.add_argument('--no-augmentation', action='store_true', default=False,\n",
        "                        help='disables data augmentation')\n",
        "\n",
        "    # control inference\n",
        "    parser.add_argument('--inference-lr', type=float, default=5e-2,\n",
        "                        help='learning rate for Adam during inference')\n",
        "    parser.add_argument('--fraction-to-dismiss', type=float, default=0.1,\n",
        "                        help='increases number of random samples and then ignores the least likely ones')\n",
        "    parser.add_argument('--clip-to-sphere', type=float, default=5,\n",
        "                        help='limit on the norm of the latents when doing gradient descent during inference')\n",
        "    parser.add_argument('--seed', type=int, default=1, metavar='S',\n",
        "                        help='random seed (default: 1)')\n",
        "\n",
        "    # control performance\n",
        "    parser.add_argument('--no-cuda', action='store_true', default=False,\n",
        "                        help='disables CUDA training')\n",
        "    parser.add_argument('--test-batch-size', type=int, default=10000, metavar='N',\n",
        "                        help='input batch size for testing (default: 10000)')\n",
        "    parser.add_argument('--num-workers', type=int, default=4, metavar='N',\n",
        "                        help='number of workers to load data (default: 4)')\n",
        "\n",
        "    args = parser.parse_args()\n",
        "    return args"
      ],
      "metadata": {
        "id": "W2595YCIVki7"
      },
      "execution_count": null,
      "outputs": []
    },
    {
      "cell_type": "code",
      "source": [
        "def sample(model, device, step, writer):\n",
        "  if writer is None:\n",
        "    return\n",
        "  model.eval()\n",
        "  n_latents = model.vaes[0].n_latents\n",
        "  with torch.no_grad():\n",
        "    zs = torch.randn(12, n_latents, 1, 1).to(device)\n",
        "    samples = torch.cat([vae.decoder(zs).cpu() for vae in model.vaes])\n",
        "    grid = make_grid(samples, nrow=12)\n",
        "    writer.add_image(f'samples', grid, step)"
      ],
      "metadata": {
        "id": "NhAYGaibXWZW"
      },
      "execution_count": null,
      "outputs": []
    },
    {
      "cell_type": "code",
      "source": [
        "def count_correct(predictions, labels):\n",
        "  assert predictions.dim() == 2\n",
        "  assert labels.dim() == 1\n",
        "\n",
        "  predictions = torch.argmax(predictions, dim=1)\n",
        "  correct = (predictions == labels).sum().item()\n",
        "  return correct"
      ],
      "metadata": {
        "id": "0VOlZHp0YdKD"
      },
      "execution_count": null,
      "outputs": []
    },
    {
      "cell_type": "code",
      "source": [
        "class Encoder(nn.Module):\n",
        "    def __init__(self, n_latents):\n",
        "        super().__init__()\n",
        "\n",
        "        self.shared = nn.Sequential(\n",
        "            nn.Conv2d(1, 32, 5),\n",
        "            nn.BatchNorm2d(32),\n",
        "            nn.ELU(),\n",
        "            nn.Conv2d(32, 32, 4, stride=2),\n",
        "            nn.BatchNorm2d(32),\n",
        "            nn.ELU(),\n",
        "            nn.Conv2d(32, 64, 3, stride=2),\n",
        "            nn.BatchNorm2d(64),\n",
        "            nn.ELU(),\n",
        "        )\n",
        "\n",
        "        self.conv_mu = nn.Conv2d(64, n_latents, 5)\n",
        "        self.conv_logvar = nn.Conv2d(64, n_latents, 5)\n",
        "\n",
        "    def forward(self, x):\n",
        "        shared = self.shared(x)\n",
        "        mu = self.conv_mu(shared)\n",
        "        logvar = self.conv_logvar(shared)\n",
        "        return mu, logvar\n",
        "\n",
        "\n",
        "class Decoder(nn.Module):\n",
        "    def __init__(self, n_latents):\n",
        "        super().__init__()\n",
        "\n",
        "        self.layers = nn.Sequential(\n",
        "            nn.ConvTranspose2d(n_latents, 32, 4),\n",
        "            nn.BatchNorm2d(32),\n",
        "            nn.ELU(),\n",
        "            nn.ConvTranspose2d(32, 16, 5, stride=2),\n",
        "            nn.BatchNorm2d(16),\n",
        "            nn.ELU(),\n",
        "            nn.ConvTranspose2d(16, 16, 5, stride=2),\n",
        "            nn.BatchNorm2d(16),\n",
        "            nn.ELU(),\n",
        "            nn.ConvTranspose2d(16, 1, 4),\n",
        "            nn.Sigmoid(),\n",
        "        )\n",
        "\n",
        "    def forward(self, x):\n",
        "        return self.layers(x)\n",
        "\n",
        "\n",
        "class VAE(nn.Module):\n",
        "    def __init__(self, n_latents):\n",
        "        super().__init__()\n",
        "\n",
        "        self.n_latents = n_latents\n",
        "        self.encoder = Encoder(self.n_latents)\n",
        "        self.decoder = Decoder(self.n_latents)\n",
        "\n",
        "    def reparameterize(self, mu, logvar):\n",
        "        if self.training:\n",
        "            std = torch.exp(0.5 * logvar)\n",
        "            eps = torch.randn_like(std)\n",
        "            return eps.mul(std).add_(mu)\n",
        "        else:\n",
        "            return mu\n",
        "\n",
        "    def forward(self, x):\n",
        "        mu, logvar = self.encoder(x)\n",
        "        z = self.reparameterize(mu, logvar)\n",
        "        return self.decoder(z), mu, logvar\n",
        "\n",
        "\n",
        "class ABS(nn.Module):\n",
        "    \"\"\"ABS model implementation that performs variational inference\n",
        "    and can be used for training.\"\"\"\n",
        "\n",
        "    def __init__(self, n_classes, n_latents_per_class, beta):\n",
        "        super().__init__()\n",
        "\n",
        "        self.beta = beta\n",
        "        self.vaes = nn.ModuleList([VAE(n_latents_per_class) for _ in range(n_classes)])\n",
        "\n",
        "    def forward(self, x):\n",
        "        outputs = [vae(x) for vae in self.vaes]\n",
        "        recs, mus, logvars = zip(*outputs)\n",
        "        recs, mus, logvars = torch.stack(recs), torch.stack(mus), torch.stack(logvars)\n",
        "        losses = [samplewise_loss_function(x, *output, self.beta) for output in outputs]\n",
        "        losses = torch.stack(losses)\n",
        "        assert losses.dim() == 2\n",
        "        logits = -losses.transpose(0, 1)\n",
        "        return logits, recs, mus, logvars"
      ],
      "metadata": {
        "id": "Hqn4X946HWWC"
      },
      "execution_count": null,
      "outputs": []
    },
    {
      "cell_type": "code",
      "source": [
        "'''beta=1\n",
        "def train(model, optimizer, epoch, loader):\n",
        "    for batch_idx, (data, target) in enumerate(loader):\n",
        "        data, target = Variable(data), Variable(target)\n",
        "        optimizer.zero_grad() # Removes all past gradient run info (clean up)\n",
        "        logits, recs, mus, logvars = model(data)\n",
        "        loss = abs_loss_function(data, target, recs, mus, logvars, beta)\n",
        "        loss.backward() # Run backprop to update weights\n",
        "        optimizer.step() # Take a step in the right direction of the SGD\n",
        "        if batch_idx == 0:\n",
        "          # up to 8 samples\n",
        "          n = min(data.size(0), 10)\n",
        "\n",
        "          # flatten VAE and batch dim into a single dim\n",
        "          shape = (-1,) + recs.size()[2:]\n",
        "\n",
        "          grid = torch.cat([data[:n], recs[:, :n].reshape(shape)])\n",
        "          grid = make_grid(grid, nrow=n)\n",
        "\n",
        "        # Logging\n",
        "        length = len(loader.dataset)\n",
        "        if batch_idx % log_interval == 0:\n",
        "            print('Train Epoch: {} [{}/{} ({:.0f}%)]\\tLoss: {:.6f}'.format(epoch, batch_idx * len(data), len(loader.dataset),100. * batch_idx / len(loader), loss.data))\n",
        "     \n",
        "'''"
      ],
      "metadata": {
        "id": "mscXO3YxJrAE",
        "colab": {
          "base_uri": "https://localhost:8080/",
          "height": 105
        },
        "outputId": "c4f95e42-a2e0-49ca-8fbc-bb067ecf1659"
      },
      "execution_count": null,
      "outputs": [
        {
          "output_type": "execute_result",
          "data": {
            "application/vnd.google.colaboratory.intrinsic+json": {
              "type": "string"
            },
            "text/plain": [
              "\"beta=1\\ndef train(model, optimizer, epoch, loader):\\n    for batch_idx, (data, target) in enumerate(loader):\\n        data, target = Variable(data), Variable(target)\\n        optimizer.zero_grad() # Removes all past gradient run info (clean up)\\n        logits, recs, mus, logvars = model(data)\\n        loss = abs_loss_function(data, target, recs, mus, logvars, beta)\\n        loss.backward() # Run backprop to update weights\\n        optimizer.step() # Take a step in the right direction of the SGD\\n        if batch_idx == 0:\\n          # up to 8 samples\\n          n = min(data.size(0), 10)\\n\\n          # flatten VAE and batch dim into a single dim\\n          shape = (-1,) + recs.size()[2:]\\n\\n          grid = torch.cat([data[:n], recs[:, :n].reshape(shape)])\\n          grid = make_grid(grid, nrow=n)\\n\\n        # Logging\\n        length = len(loader.dataset)\\n        if batch_idx % log_interval == 0:\\n            print('Train Epoch: {} [{}/{} ({:.0f}%)]\\tLoss: {:.6f}'.format(epoch, batch_idx * len(data), len(loader.dataset),100. * batch_idx / len(loader), loss.data))\\n     \\n\""
            ]
          },
          "metadata": {},
          "execution_count": 53
        }
      ]
    },
    {
      "cell_type": "code",
      "source": [
        "loss_=[]\n",
        "acc=[]\n",
        "\n",
        "def train(model, args, device, train_loader, optimizer, epoch, writer=None):\n",
        "    model.train()\n",
        "\n",
        "    epoch_loss = 0\n",
        "    epoch_correct = 0\n",
        "    \n",
        "\n",
        "    for batch_idx, (data, targets) in enumerate(train_loader):\n",
        "        # training\n",
        "        data = data.to(device)\n",
        "        targets = targets.to(device)\n",
        "        optimizer.zero_grad()\n",
        "        logits, recs, mus, logvars = model(data)\n",
        "        loss = abs_loss_function(data, targets, recs, mus, logvars, args.beta)\n",
        "        loss.backward()\n",
        "        optimizer.step()\n",
        "\n",
        "        # logging\n",
        "        loss = loss.item()\n",
        "        epoch_loss += loss * len(data)\n",
        "        correct = count_correct(logits, targets)\n",
        "        accuracy = 100 * correct / len(data)\n",
        "        epoch_correct += correct\n",
        "\n",
        "        if writer is not None:\n",
        "            step = (epoch - 1) * len(train_loader.sampler) + batch_idx * args.batch_size\n",
        "            writer.add_scalar('loss/train', loss, step)\n",
        "            writer.add_scalar('accuracy/train', accuracy, step)\n",
        "\n",
        "            if batch_idx == 0:\n",
        "                # up to 8 samples\n",
        "                n = min(data.size(0), 10)\n",
        "\n",
        "                # flatten VAE and batch dim into a single dim\n",
        "                shape = (-1,) + recs.size()[2:]\n",
        "\n",
        "                grid = torch.cat([data[:n], recs[:, :n].reshape(shape)])\n",
        "                grid = make_grid(grid, nrow=n)\n",
        "                writer.add_image(f'reconstructions/train', grid, step)\n",
        "\n",
        "        if batch_idx % args.log_interval == 0:\n",
        "            print('Train Epoch: {} [{:5d}/{} ({:2.0f}%)]\\tLoss: {:3.4f} ({:2.0f}%)'.format(\n",
        "                epoch, batch_idx * args.batch_size, len(train_loader.sampler),\n",
        "                100 * batch_idx / len(train_loader), loss, accuracy))\n",
        "\n",
        "    epoch_loss /= len(train_loader.sampler)\n",
        "    epoch_accuracy = epoch_correct / len(train_loader.sampler)\n",
        "    loss_.append(epoch_loss)\n",
        "    acc.append(epoch_accuracy)\n",
        "    if writer is not None:\n",
        "        step = epoch * len(train_loader.sampler)\n",
        "        writer.add_scalar('loss/train-epoch', epoch_loss, step)\n",
        "        writer.add_scalar('accuracy/train-epoch', epoch_accuracy, step)\n",
        "    print(f'====> Epoch: {epoch} Average loss: {epoch_loss:.4f}, accuracy: {epoch_accuracy * 100:.3f}')"
      ],
      "metadata": {
        "id": "XO4lKnfqVON1"
      },
      "execution_count": null,
      "outputs": []
    },
    {
      "cell_type": "code",
      "source": [
        "'''Accuracy=[]\n",
        "def test(model, loader, name):\n",
        "    test_loss = 0\n",
        "    correct = 0\n",
        "    for data, target in loader:\n",
        "        data, target = Variable(data, volatile=True), Variable(target)\n",
        "        output = model(data) # Runs the model\n",
        "        test_loss += F.nll_loss(output, target, size_average=False).item() # Sum up batch loss\n",
        "        pred = output.data.max(1, keepdim=True)[1] # Get the index (label) of the max log-probability\n",
        "        correct += pred.eq(target.data.view_as(pred)).long().cpu().sum()\n",
        "\n",
        "    # Logging\n",
        "    length = len(list(loader)) * test_batch_size\n",
        "    test_loss /= length\n",
        "    print('\\n', name, 'set: Average loss: {:.4f}, Accuracy: {}/{} ({:.0f}%)\\n'.format(test_loss, correct, length,100. * correct / length))\n",
        "    accu=float(correct/length)\n",
        "    Accuracy.append(accu)\n",
        "    print(name,' set Accuracy over the epochs',Accuracy)\n",
        "    return test_loss'''"
      ],
      "metadata": {
        "id": "LLX1AdgmMVRa",
        "colab": {
          "base_uri": "https://localhost:8080/",
          "height": 87
        },
        "outputId": "25c6df7c-1709-4eae-b999-65e9919e9294"
      },
      "execution_count": null,
      "outputs": [
        {
          "output_type": "execute_result",
          "data": {
            "application/vnd.google.colaboratory.intrinsic+json": {
              "type": "string"
            },
            "text/plain": [
              "\"Accuracy=[]\\ndef test(model, loader, name):\\n    test_loss = 0\\n    correct = 0\\n    for data, target in loader:\\n        data, target = Variable(data, volatile=True), Variable(target)\\n        output = model(data) # Runs the model\\n        test_loss += F.nll_loss(output, target, size_average=False).item() # Sum up batch loss\\n        pred = output.data.max(1, keepdim=True)[1] # Get the index (label) of the max log-probability\\n        correct += pred.eq(target.data.view_as(pred)).long().cpu().sum()\\n\\n    # Logging\\n    length = len(list(loader)) * test_batch_size\\n    test_loss /= length\\n    print('\\n', name, 'set: Average loss: {:.4f}, Accuracy: {}/{} ({:.0f}%)\\n'.format(test_loss, correct, length,100. * correct / length))\\n    accu=float(correct/length)\\n    Accuracy.append(accu)\\n    print(name,' set Accuracy over the epochs',Accuracy)\\n    return test_loss\""
            ]
          },
          "metadata": {},
          "execution_count": 55
        }
      ]
    },
    {
      "cell_type": "code",
      "source": [
        "def test(model, args, device, test_loader, step, writer=None, max_batches=None):\n",
        "    model.eval()\n",
        "    suffix = '-' + model.name if hasattr(model, 'name') else ''\n",
        "\n",
        "    N = len(test_loader.dataset)\n",
        "\n",
        "    loss = 0\n",
        "    correct = 0\n",
        "\n",
        "    with torch.no_grad():\n",
        "        # using a context manager for tqdm prevents messed up console outputs\n",
        "        with tqdm.tqdm(test_loader) as t:\n",
        "            for i, (data, targets) in enumerate(t):\n",
        "                data = data.to(device)\n",
        "                targets = targets.to(device)\n",
        "                logits, recs, mus, logvars = model(data)\n",
        "                loss += abs_loss_function(data, targets, recs, mus, logvars, args.beta).item() * len(data)\n",
        "                correct += count_correct(logits, targets)\n",
        "\n",
        "                if i == 0 and writer is not None:\n",
        "                    # up to 8 samples\n",
        "                    n = min(data.size(0), 8)\n",
        "                    # flatten VAE and batch dim into a single dim\n",
        "                    shape = (-1,) + recs.size()[2:]\n",
        "                    grid = torch.cat([data[:n], recs[:, :n].reshape(shape)])\n",
        "                    grid = make_grid(grid, nrow=n)\n",
        "                    writer.add_image(f'reconstructions/test{suffix}', grid, step)\n",
        "\n",
        "                if i == max_batches:\n",
        "                    # limit testing to a subset by passing max_batches\n",
        "                    N = i * args.test_batch_size + len(data)\n",
        "                    break\n",
        "\n",
        "    loss /= N\n",
        "    accuracy = 100 * correct / N\n",
        "    print(f'====> Test set: Average loss: {loss:.4f}, Accuracy: {correct}/{N} ({accuracy:.0f}%) {suffix[1:]}\\n')\n",
        "\n",
        "    if writer is not None:\n",
        "        writer.add_scalar(f'loss/test{suffix}', loss, step)\n",
        "        writer.add_scalar(f'accuracy/test{suffix}', accuracy, step)"
      ],
      "metadata": {
        "id": "TcKpDbyZc4Wj"
      },
      "execution_count": null,
      "outputs": []
    },
    {
      "cell_type": "code",
      "source": [
        "compute_mode = 'cpu'\n",
        "\n",
        "if compute_mode == 'cpu':\n",
        "    device = torch.device('cpu')\n",
        "elif compute_mode == 'gpu':\n",
        "    # If you are using pytorch on the GPU cluster, you have to manually specify which GPU device to use\n",
        "    # It is extremely important that you *do not* spawn multi-GPU jobs.\n",
        "    os.environ[\"CUDA_VISIBLE_DEVICES\"] = '0'    # Set device ID here\n",
        "    device = torch.device('cuda')\n",
        "else:\n",
        "    raise ValueError('Unrecognized compute mode')"
      ],
      "metadata": {
        "id": "THD4ZQNoMv1c"
      },
      "execution_count": null,
      "outputs": []
    },
    {
      "cell_type": "code",
      "source": [
        "model= ABS(n_classes=10, n_latents_per_class=8, beta=1).to(device)\n",
        "args= get_args()\n",
        "\n",
        "kwargs = {\n",
        "        'fraction_to_dismiss': args.fraction_to_dismiss,\n",
        "        'lr': args.inference_lr,\n",
        "        'radius': args.clip_to_sphere,\n",
        "        \n",
        "    }\n",
        "robust_inference1 = RobustInference(model, device, n_samples=80, n_iterations=0, **kwargs)\n",
        "robust_inference2 = RobustInference(model, device, n_samples=8000, n_iterations=0, **kwargs)\n",
        "robust_inference3 = RobustInference(model, device, n_samples=8000, n_iterations=50, **kwargs)\n",
        "\n",
        "# create optimizer\n",
        "optimizer = optim.Adam(model.parameters(), lr=args.lr)\n",
        "\n",
        "# create writer for TensorBoard\n",
        "writer = SummaryWriter(args.logdir) if args.logdir is not None else None\n"
      ],
      "metadata": {
        "id": "g9QSAtdTMoaH"
      },
      "execution_count": null,
      "outputs": []
    },
    {
      "cell_type": "code",
      "source": [
        "#args= get_args()\n",
        "first_epoch = 0 if args.initial_evaluation else 1\n",
        "samples_per_epoch = len(train_loader.sampler)\n",
        "for epoch in range(first_epoch, args.epochs + 1):\n",
        "  if epoch > 0:\n",
        "    # train for one epoch\n",
        "    train(model, args, device, train_loader, optimizer, epoch, writer=writer)\n",
        "\n",
        "    # model changed, so make sure reconstructions are regenerated\n",
        "    #robust_inference1.invalidate_cache()\n",
        "    #robust_inference2.invalidate_cache()\n",
        "    #robust_inference3.invalidate_cache()\n",
        "\n",
        "  step = epoch * samples_per_epoch\n",
        "\n",
        "  # common params for calls to test\n",
        "  params = (args, device, test_loader, step, writer)\n",
        "\n",
        "  # some evaluations can happen after every epoch because they are cheap\n",
        "  test(model, *params)\n",
        "  #test(robust_inference1, *params)\n",
        "  #test(robust_inference2, *params)\n",
        "\n",
        "  # expensive evaluations happen from time to time and at the end\n",
        "  if epoch % args.epochs_full_evaluation == 0 or epoch == args.epochs:\n",
        "    #test(robust_inference3, *params)\n",
        "    test(model, *params)\n",
        "\n",
        "  sample(model, device, step, writer)\n",
        "\n",
        "# save the model\n",
        "if args.logdir is not None:\n",
        "  path = join(args.logdir, 'model.pth')\n",
        "  torch.save(model.state_dict(), path)\n",
        "  print(f'model saved to {path}')\n",
        "\n",
        "if args.save is not None:\n",
        "  torch.save(model.state_dict(), args.save)\n",
        "  print(f'model saved to {args.save}')\n",
        "\n",
        "if writer is not None:\n",
        "  writer.close()"
      ],
      "metadata": {
        "id": "cEIryp8KWXf8",
        "colab": {
          "base_uri": "https://localhost:8080/"
        },
        "outputId": "17f0414d-2826-4723-89b2-a5920fea5382"
      },
      "execution_count": null,
      "outputs": [
        {
          "metadata": {
            "tags": null
          },
          "name": "stdout",
          "output_type": "stream",
          "text": [
            "Train Epoch: 1 [    0/45000 ( 0%)]\tLoss: 37.6212 (21%)\n",
            "Train Epoch: 1 [ 1280/45000 ( 3%)]\tLoss: 38.5821 (28%)\n",
            "Train Epoch: 1 [ 2560/45000 ( 6%)]\tLoss: 38.5584 (28%)\n",
            "Train Epoch: 1 [ 3840/45000 ( 9%)]\tLoss: 37.1960 (24%)\n",
            "Train Epoch: 1 [ 5120/45000 (11%)]\tLoss: 38.0662 (27%)\n",
            "Train Epoch: 1 [ 6400/45000 (14%)]\tLoss: 39.1488 (23%)\n",
            "Train Epoch: 1 [ 7680/45000 (17%)]\tLoss: 36.8818 (19%)\n",
            "Train Epoch: 1 [ 8960/45000 (20%)]\tLoss: 37.0055 (22%)\n",
            "Train Epoch: 1 [10240/45000 (23%)]\tLoss: 37.3688 (21%)\n",
            "Train Epoch: 1 [11520/45000 (26%)]\tLoss: 39.5742 (31%)\n",
            "Train Epoch: 1 [12800/45000 (28%)]\tLoss: 40.2047 (21%)\n",
            "Train Epoch: 1 [14080/45000 (31%)]\tLoss: 37.3661 (28%)\n",
            "Train Epoch: 1 [15360/45000 (34%)]\tLoss: 35.9277 (23%)\n",
            "Train Epoch: 1 [16640/45000 (37%)]\tLoss: 37.1387 (27%)\n",
            "Train Epoch: 1 [17920/45000 (40%)]\tLoss: 36.9299 (27%)\n",
            "Train Epoch: 1 [19200/45000 (43%)]\tLoss: 35.9744 (23%)\n",
            "Train Epoch: 1 [20480/45000 (45%)]\tLoss: 38.3031 (21%)\n",
            "Train Epoch: 1 [21760/45000 (48%)]\tLoss: 37.8491 (20%)\n",
            "Train Epoch: 1 [23040/45000 (51%)]\tLoss: 35.8033 (22%)\n",
            "Train Epoch: 1 [24320/45000 (54%)]\tLoss: 36.7934 (26%)\n",
            "Train Epoch: 1 [25600/45000 (57%)]\tLoss: 37.6572 (29%)\n",
            "Train Epoch: 1 [26880/45000 (60%)]\tLoss: 38.3658 (24%)\n",
            "Train Epoch: 1 [28160/45000 (62%)]\tLoss: 38.8379 (20%)\n",
            "Train Epoch: 1 [29440/45000 (65%)]\tLoss: 37.3950 (22%)\n",
            "Train Epoch: 1 [30720/45000 (68%)]\tLoss: 37.2993 (19%)\n",
            "Train Epoch: 1 [32000/45000 (71%)]\tLoss: 34.7900 (25%)\n",
            "Train Epoch: 1 [33280/45000 (74%)]\tLoss: 38.2903 (22%)\n",
            "Train Epoch: 1 [34560/45000 (77%)]\tLoss: 36.8493 (23%)\n",
            "Train Epoch: 1 [35840/45000 (80%)]\tLoss: 38.4112 (27%)\n",
            "Train Epoch: 1 [37120/45000 (82%)]\tLoss: 37.9751 (25%)\n",
            "Train Epoch: 1 [38400/45000 (85%)]\tLoss: 38.4527 (23%)\n",
            "Train Epoch: 1 [39680/45000 (88%)]\tLoss: 36.2269 (15%)\n",
            "Train Epoch: 1 [40960/45000 (91%)]\tLoss: 34.3769 (23%)\n",
            "Train Epoch: 1 [42240/45000 (94%)]\tLoss: 35.9411 (24%)\n",
            "Train Epoch: 1 [43520/45000 (97%)]\tLoss: 36.4658 (18%)\n",
            "Train Epoch: 1 [44800/45000 (99%)]\tLoss: 36.5900 (29%)\n",
            "====> Epoch: 1 Average loss: 37.4166, accuracy: 24.753\n"
          ]
        },
        {
          "metadata": {
            "tags": null
          },
          "name": "stderr",
          "output_type": "stream",
          "text": [
            "100%|██████████| 313/313 [01:16<00:00,  4.09it/s]\n"
          ]
        },
        {
          "metadata": {
            "tags": null
          },
          "name": "stdout",
          "output_type": "stream",
          "text": [
            "====> Test set: Average loss: 31.0705, Accuracy: 3089/10000 (31%) \n",
            "\n",
            "Train Epoch: 2 [    0/45000 ( 0%)]\tLoss: 36.2869 (21%)\n",
            "Train Epoch: 2 [ 1280/45000 ( 3%)]\tLoss: 38.4614 (23%)\n",
            "Train Epoch: 2 [ 2560/45000 ( 6%)]\tLoss: 38.2038 (23%)\n",
            "Train Epoch: 2 [ 3840/45000 ( 9%)]\tLoss: 38.5420 (30%)\n",
            "Train Epoch: 2 [ 5120/45000 (11%)]\tLoss: 37.6099 (27%)\n",
            "Train Epoch: 2 [ 6400/45000 (14%)]\tLoss: 35.8734 (21%)\n",
            "Train Epoch: 2 [ 7680/45000 (17%)]\tLoss: 35.9506 (23%)\n",
            "Train Epoch: 2 [ 8960/45000 (20%)]\tLoss: 37.9229 (23%)\n",
            "Train Epoch: 2 [10240/45000 (23%)]\tLoss: 35.2608 (24%)\n",
            "Train Epoch: 2 [11520/45000 (26%)]\tLoss: 39.6183 (19%)\n",
            "Train Epoch: 2 [12800/45000 (28%)]\tLoss: 36.9246 (21%)\n",
            "Train Epoch: 2 [14080/45000 (31%)]\tLoss: 37.1113 (20%)\n",
            "Train Epoch: 2 [15360/45000 (34%)]\tLoss: 36.2154 (24%)\n",
            "Train Epoch: 2 [16640/45000 (37%)]\tLoss: 38.1721 (22%)\n",
            "Train Epoch: 2 [17920/45000 (40%)]\tLoss: 36.8150 (21%)\n",
            "Train Epoch: 2 [19200/45000 (43%)]\tLoss: 35.6185 (20%)\n",
            "Train Epoch: 2 [20480/45000 (45%)]\tLoss: 36.1008 (23%)\n",
            "Train Epoch: 2 [21760/45000 (48%)]\tLoss: 38.0384 (30%)\n",
            "Train Epoch: 2 [23040/45000 (51%)]\tLoss: 35.6551 (28%)\n",
            "Train Epoch: 2 [24320/45000 (54%)]\tLoss: 37.2686 (22%)\n",
            "Train Epoch: 2 [25600/45000 (57%)]\tLoss: 36.3415 (27%)\n",
            "Train Epoch: 2 [26880/45000 (60%)]\tLoss: 37.5093 (30%)\n",
            "Train Epoch: 2 [28160/45000 (62%)]\tLoss: 35.2073 (30%)\n",
            "Train Epoch: 2 [29440/45000 (65%)]\tLoss: 35.9308 (20%)\n",
            "Train Epoch: 2 [30720/45000 (68%)]\tLoss: 36.2086 (24%)\n",
            "Train Epoch: 2 [32000/45000 (71%)]\tLoss: 34.6474 (21%)\n",
            "Train Epoch: 2 [33280/45000 (74%)]\tLoss: 35.5880 (19%)\n",
            "Train Epoch: 2 [34560/45000 (77%)]\tLoss: 34.9293 (29%)\n",
            "Train Epoch: 2 [35840/45000 (80%)]\tLoss: 38.2868 (27%)\n",
            "Train Epoch: 2 [37120/45000 (82%)]\tLoss: 40.2332 (23%)\n",
            "Train Epoch: 2 [38400/45000 (85%)]\tLoss: 36.6119 (24%)\n",
            "Train Epoch: 2 [39680/45000 (88%)]\tLoss: 36.6907 (23%)\n",
            "Train Epoch: 2 [40960/45000 (91%)]\tLoss: 36.5114 (21%)\n",
            "Train Epoch: 2 [42240/45000 (94%)]\tLoss: 36.4462 (28%)\n",
            "Train Epoch: 2 [43520/45000 (97%)]\tLoss: 38.8514 (19%)\n",
            "Train Epoch: 2 [44800/45000 (99%)]\tLoss: 33.9162 (30%)\n",
            "====> Epoch: 2 Average loss: 36.6861, accuracy: 24.331\n"
          ]
        },
        {
          "metadata": {
            "tags": null
          },
          "name": "stderr",
          "output_type": "stream",
          "text": [
            "100%|██████████| 313/313 [01:17<00:00,  4.03it/s]\n"
          ]
        },
        {
          "metadata": {
            "tags": null
          },
          "name": "stdout",
          "output_type": "stream",
          "text": [
            "====> Test set: Average loss: 30.4177, Accuracy: 3304/10000 (33%) \n",
            "\n",
            "Train Epoch: 3 [    0/45000 ( 0%)]\tLoss: 37.1589 (24%)\n",
            "Train Epoch: 3 [ 1280/45000 ( 3%)]\tLoss: 33.8978 (28%)\n",
            "Train Epoch: 3 [ 2560/45000 ( 6%)]\tLoss: 37.1056 (19%)\n",
            "Train Epoch: 3 [ 3840/45000 ( 9%)]\tLoss: 35.7141 (23%)\n",
            "Train Epoch: 3 [ 5120/45000 (11%)]\tLoss: 35.3150 (37%)\n",
            "Train Epoch: 3 [ 6400/45000 (14%)]\tLoss: 35.6747 (29%)\n",
            "Train Epoch: 3 [ 7680/45000 (17%)]\tLoss: 37.2322 (23%)\n",
            "Train Epoch: 3 [ 8960/45000 (20%)]\tLoss: 36.1487 (23%)\n",
            "Train Epoch: 3 [10240/45000 (23%)]\tLoss: 37.2046 (30%)\n",
            "Train Epoch: 3 [11520/45000 (26%)]\tLoss: 35.8976 (26%)\n",
            "Train Epoch: 3 [12800/45000 (28%)]\tLoss: 37.5637 (28%)\n",
            "Train Epoch: 3 [14080/45000 (31%)]\tLoss: 35.5418 (30%)\n",
            "Train Epoch: 3 [15360/45000 (34%)]\tLoss: 38.4608 (23%)\n",
            "Train Epoch: 3 [16640/45000 (37%)]\tLoss: 35.3033 (26%)\n",
            "Train Epoch: 3 [17920/45000 (40%)]\tLoss: 35.8304 (23%)\n",
            "Train Epoch: 3 [19200/45000 (43%)]\tLoss: 34.9424 (22%)\n",
            "Train Epoch: 3 [20480/45000 (45%)]\tLoss: 34.2623 (25%)\n",
            "Train Epoch: 3 [21760/45000 (48%)]\tLoss: 35.9724 (21%)\n",
            "Train Epoch: 3 [23040/45000 (51%)]\tLoss: 38.4661 (23%)\n",
            "Train Epoch: 3 [24320/45000 (54%)]\tLoss: 36.1649 (25%)\n",
            "Train Epoch: 3 [25600/45000 (57%)]\tLoss: 35.3791 (28%)\n",
            "Train Epoch: 3 [26880/45000 (60%)]\tLoss: 37.3448 (25%)\n",
            "Train Epoch: 3 [28160/45000 (62%)]\tLoss: 38.9817 (20%)\n",
            "Train Epoch: 3 [29440/45000 (65%)]\tLoss: 35.4491 (27%)\n",
            "Train Epoch: 3 [30720/45000 (68%)]\tLoss: 37.1921 (28%)\n",
            "Train Epoch: 3 [32000/45000 (71%)]\tLoss: 36.3051 (30%)\n",
            "Train Epoch: 3 [33280/45000 (74%)]\tLoss: 37.3494 (24%)\n",
            "Train Epoch: 3 [34560/45000 (77%)]\tLoss: 37.6612 (23%)\n",
            "Train Epoch: 3 [35840/45000 (80%)]\tLoss: 36.4046 (23%)\n",
            "Train Epoch: 3 [37120/45000 (82%)]\tLoss: 34.3540 (33%)\n",
            "Train Epoch: 3 [38400/45000 (85%)]\tLoss: 35.4831 (22%)\n",
            "Train Epoch: 3 [39680/45000 (88%)]\tLoss: 36.9801 (23%)\n",
            "Train Epoch: 3 [40960/45000 (91%)]\tLoss: 33.0502 (28%)\n",
            "Train Epoch: 3 [42240/45000 (94%)]\tLoss: 36.7314 (23%)\n",
            "Train Epoch: 3 [43520/45000 (97%)]\tLoss: 36.3173 (25%)\n",
            "Train Epoch: 3 [44800/45000 (99%)]\tLoss: 35.0867 (31%)\n",
            "====> Epoch: 3 Average loss: 36.2473, accuracy: 25.113\n"
          ]
        },
        {
          "metadata": {
            "tags": null
          },
          "name": "stderr",
          "output_type": "stream",
          "text": [
            "100%|██████████| 313/313 [01:12<00:00,  4.31it/s]\n"
          ]
        },
        {
          "metadata": {
            "tags": null
          },
          "name": "stdout",
          "output_type": "stream",
          "text": [
            "====> Test set: Average loss: 30.3550, Accuracy: 3084/10000 (31%) \n",
            "\n",
            "Train Epoch: 4 [    0/45000 ( 0%)]\tLoss: 34.6421 (33%)\n",
            "Train Epoch: 4 [ 1280/45000 ( 3%)]\tLoss: 38.4322 (25%)\n",
            "Train Epoch: 4 [ 2560/45000 ( 6%)]\tLoss: 37.2139 (19%)\n",
            "Train Epoch: 4 [ 3840/45000 ( 9%)]\tLoss: 37.8262 (23%)\n",
            "Train Epoch: 4 [ 5120/45000 (11%)]\tLoss: 37.4722 (27%)\n",
            "Train Epoch: 4 [ 6400/45000 (14%)]\tLoss: 33.9808 (24%)\n",
            "Train Epoch: 4 [ 7680/45000 (17%)]\tLoss: 34.1687 (26%)\n",
            "Train Epoch: 4 [ 8960/45000 (20%)]\tLoss: 35.3122 (26%)\n",
            "Train Epoch: 4 [10240/45000 (23%)]\tLoss: 38.0453 (27%)\n",
            "Train Epoch: 4 [11520/45000 (26%)]\tLoss: 36.1117 (21%)\n",
            "Train Epoch: 4 [12800/45000 (28%)]\tLoss: 37.1902 (27%)\n",
            "Train Epoch: 4 [14080/45000 (31%)]\tLoss: 34.5033 (27%)\n",
            "Train Epoch: 4 [15360/45000 (34%)]\tLoss: 37.8188 (26%)\n",
            "Train Epoch: 4 [16640/45000 (37%)]\tLoss: 32.6239 (24%)\n",
            "Train Epoch: 4 [17920/45000 (40%)]\tLoss: 33.2935 (23%)\n",
            "Train Epoch: 4 [19200/45000 (43%)]\tLoss: 34.7736 (30%)\n",
            "Train Epoch: 4 [20480/45000 (45%)]\tLoss: 35.5724 (22%)\n",
            "Train Epoch: 4 [21760/45000 (48%)]\tLoss: 36.0192 (24%)\n",
            "Train Epoch: 4 [23040/45000 (51%)]\tLoss: 33.9702 (34%)\n",
            "Train Epoch: 4 [24320/45000 (54%)]\tLoss: 33.8742 (23%)\n",
            "Train Epoch: 4 [25600/45000 (57%)]\tLoss: 38.4049 (23%)\n",
            "Train Epoch: 4 [26880/45000 (60%)]\tLoss: 36.7116 (30%)\n",
            "Train Epoch: 4 [28160/45000 (62%)]\tLoss: 33.3675 (24%)\n",
            "Train Epoch: 4 [29440/45000 (65%)]\tLoss: 39.4048 (29%)\n",
            "Train Epoch: 4 [30720/45000 (68%)]\tLoss: 37.4861 (23%)\n",
            "Train Epoch: 4 [32000/45000 (71%)]\tLoss: 34.7154 (23%)\n",
            "Train Epoch: 4 [33280/45000 (74%)]\tLoss: 36.6953 (24%)\n",
            "Train Epoch: 4 [34560/45000 (77%)]\tLoss: 35.2466 (22%)\n",
            "Train Epoch: 4 [35840/45000 (80%)]\tLoss: 37.8508 (26%)\n",
            "Train Epoch: 4 [37120/45000 (82%)]\tLoss: 35.2038 (32%)\n",
            "Train Epoch: 4 [38400/45000 (85%)]\tLoss: 35.7391 (27%)\n",
            "Train Epoch: 4 [39680/45000 (88%)]\tLoss: 37.7584 (24%)\n",
            "Train Epoch: 4 [40960/45000 (91%)]\tLoss: 35.9672 (22%)\n",
            "Train Epoch: 4 [42240/45000 (94%)]\tLoss: 38.1525 (24%)\n",
            "Train Epoch: 4 [43520/45000 (97%)]\tLoss: 35.0299 (23%)\n",
            "Train Epoch: 4 [44800/45000 (99%)]\tLoss: 36.4233 (30%)\n",
            "====> Epoch: 4 Average loss: 36.0210, accuracy: 24.873\n"
          ]
        },
        {
          "metadata": {
            "tags": null
          },
          "name": "stderr",
          "output_type": "stream",
          "text": [
            "100%|██████████| 313/313 [01:13<00:00,  4.28it/s]\n"
          ]
        },
        {
          "metadata": {
            "tags": null
          },
          "name": "stdout",
          "output_type": "stream",
          "text": [
            "====> Test set: Average loss: 29.7960, Accuracy: 3362/10000 (34%) \n",
            "\n",
            "Train Epoch: 5 [    0/45000 ( 0%)]\tLoss: 36.8022 (23%)\n",
            "Train Epoch: 5 [ 1280/45000 ( 3%)]\tLoss: 36.8687 (27%)\n",
            "Train Epoch: 5 [ 2560/45000 ( 6%)]\tLoss: 35.9752 (23%)\n",
            "Train Epoch: 5 [ 3840/45000 ( 9%)]\tLoss: 35.3275 (32%)\n",
            "Train Epoch: 5 [ 5120/45000 (11%)]\tLoss: 37.6022 (27%)\n",
            "Train Epoch: 5 [ 6400/45000 (14%)]\tLoss: 36.7029 (25%)\n",
            "Train Epoch: 5 [ 7680/45000 (17%)]\tLoss: 34.3863 (27%)\n",
            "Train Epoch: 5 [ 8960/45000 (20%)]\tLoss: 35.3690 (27%)\n",
            "Train Epoch: 5 [10240/45000 (23%)]\tLoss: 35.9993 (26%)\n",
            "Train Epoch: 5 [11520/45000 (26%)]\tLoss: 36.3167 (30%)\n",
            "Train Epoch: 5 [12800/45000 (28%)]\tLoss: 37.3629 (28%)\n",
            "Train Epoch: 5 [14080/45000 (31%)]\tLoss: 34.8574 (30%)\n",
            "Train Epoch: 5 [15360/45000 (34%)]\tLoss: 33.9419 (23%)\n",
            "Train Epoch: 5 [16640/45000 (37%)]\tLoss: 34.3678 (23%)\n",
            "Train Epoch: 5 [17920/45000 (40%)]\tLoss: 36.7701 (23%)\n",
            "Train Epoch: 5 [19200/45000 (43%)]\tLoss: 36.9021 (27%)\n",
            "Train Epoch: 5 [20480/45000 (45%)]\tLoss: 36.1586 (26%)\n",
            "Train Epoch: 5 [21760/45000 (48%)]\tLoss: 36.7709 (18%)\n",
            "Train Epoch: 5 [23040/45000 (51%)]\tLoss: 36.2039 (25%)\n",
            "Train Epoch: 5 [24320/45000 (54%)]\tLoss: 37.1209 (14%)\n",
            "Train Epoch: 5 [25600/45000 (57%)]\tLoss: 38.9628 (22%)\n",
            "Train Epoch: 5 [26880/45000 (60%)]\tLoss: 36.9567 (20%)\n",
            "Train Epoch: 5 [28160/45000 (62%)]\tLoss: 36.6906 (20%)\n",
            "Train Epoch: 5 [29440/45000 (65%)]\tLoss: 40.2924 (26%)\n",
            "Train Epoch: 5 [30720/45000 (68%)]\tLoss: 36.9398 (31%)\n",
            "Train Epoch: 5 [32000/45000 (71%)]\tLoss: 34.8319 (29%)\n",
            "Train Epoch: 5 [33280/45000 (74%)]\tLoss: 36.6215 (23%)\n",
            "Train Epoch: 5 [34560/45000 (77%)]\tLoss: 35.0886 (27%)\n",
            "Train Epoch: 5 [35840/45000 (80%)]\tLoss: 35.7494 (27%)\n",
            "Train Epoch: 5 [37120/45000 (82%)]\tLoss: 35.0780 (29%)\n",
            "Train Epoch: 5 [38400/45000 (85%)]\tLoss: 35.0666 (27%)\n",
            "Train Epoch: 5 [39680/45000 (88%)]\tLoss: 35.2776 (26%)\n",
            "Train Epoch: 5 [40960/45000 (91%)]\tLoss: 37.4293 (26%)\n",
            "Train Epoch: 5 [42240/45000 (94%)]\tLoss: 36.5843 (17%)\n",
            "Train Epoch: 5 [43520/45000 (97%)]\tLoss: 37.9957 (20%)\n",
            "Train Epoch: 5 [44800/45000 (99%)]\tLoss: 37.4224 (25%)\n",
            "====> Epoch: 5 Average loss: 35.9137, accuracy: 25.031\n"
          ]
        },
        {
          "metadata": {
            "tags": null
          },
          "name": "stderr",
          "output_type": "stream",
          "text": [
            "100%|██████████| 313/313 [01:17<00:00,  4.02it/s]\n"
          ]
        },
        {
          "output_type": "stream",
          "name": "stdout",
          "text": [
            "====> Test set: Average loss: 30.1421, Accuracy: 3366/10000 (34%) \n",
            "\n",
            "Train Epoch: 6 [    0/45000 ( 0%)]\tLoss: 36.9917 (22%)\n",
            "Train Epoch: 6 [ 1280/45000 ( 3%)]\tLoss: 35.4148 (18%)\n",
            "Train Epoch: 6 [ 2560/45000 ( 6%)]\tLoss: 35.8176 (23%)\n",
            "Train Epoch: 6 [ 3840/45000 ( 9%)]\tLoss: 36.2933 (23%)\n",
            "Train Epoch: 6 [ 5120/45000 (11%)]\tLoss: 36.2477 (23%)\n",
            "Train Epoch: 6 [ 6400/45000 (14%)]\tLoss: 35.9932 (26%)\n",
            "Train Epoch: 6 [ 7680/45000 (17%)]\tLoss: 39.0119 (17%)\n",
            "Train Epoch: 6 [ 8960/45000 (20%)]\tLoss: 36.3885 (23%)\n",
            "Train Epoch: 6 [10240/45000 (23%)]\tLoss: 34.0382 (25%)\n",
            "Train Epoch: 6 [11520/45000 (26%)]\tLoss: 35.0533 (34%)\n",
            "Train Epoch: 6 [12800/45000 (28%)]\tLoss: 34.5866 (27%)\n",
            "Train Epoch: 6 [14080/45000 (31%)]\tLoss: 35.9306 (22%)\n",
            "Train Epoch: 6 [15360/45000 (34%)]\tLoss: 35.3496 (26%)\n",
            "Train Epoch: 6 [16640/45000 (37%)]\tLoss: 36.9273 (25%)\n",
            "Train Epoch: 6 [17920/45000 (40%)]\tLoss: 35.3453 (27%)\n",
            "Train Epoch: 6 [19200/45000 (43%)]\tLoss: 34.0608 (28%)\n",
            "Train Epoch: 6 [20480/45000 (45%)]\tLoss: 35.8991 (22%)\n",
            "Train Epoch: 6 [21760/45000 (48%)]\tLoss: 33.8306 (19%)\n",
            "Train Epoch: 6 [23040/45000 (51%)]\tLoss: 35.6430 (27%)\n",
            "Train Epoch: 6 [24320/45000 (54%)]\tLoss: 36.6787 (24%)\n",
            "Train Epoch: 6 [25600/45000 (57%)]\tLoss: 36.3881 (27%)\n",
            "Train Epoch: 6 [26880/45000 (60%)]\tLoss: 35.2472 (25%)\n",
            "Train Epoch: 6 [28160/45000 (62%)]\tLoss: 35.5610 (22%)\n",
            "Train Epoch: 6 [29440/45000 (65%)]\tLoss: 35.5888 (25%)\n",
            "Train Epoch: 6 [30720/45000 (68%)]\tLoss: 38.0599 (20%)\n",
            "Train Epoch: 6 [32000/45000 (71%)]\tLoss: 35.0800 (31%)\n",
            "Train Epoch: 6 [33280/45000 (74%)]\tLoss: 34.3946 (21%)\n",
            "Train Epoch: 6 [34560/45000 (77%)]\tLoss: 38.8218 (24%)\n",
            "Train Epoch: 6 [35840/45000 (80%)]\tLoss: 33.8130 (29%)\n",
            "Train Epoch: 6 [37120/45000 (82%)]\tLoss: 35.8674 (24%)\n",
            "Train Epoch: 6 [38400/45000 (85%)]\tLoss: 37.5706 (25%)\n",
            "Train Epoch: 6 [39680/45000 (88%)]\tLoss: 35.4255 (28%)\n",
            "Train Epoch: 6 [40960/45000 (91%)]\tLoss: 35.8173 (28%)\n",
            "Train Epoch: 6 [42240/45000 (94%)]\tLoss: 34.0953 (28%)\n",
            "Train Epoch: 6 [43520/45000 (97%)]\tLoss: 34.2519 (24%)\n",
            "Train Epoch: 6 [44800/45000 (99%)]\tLoss: 36.5740 (21%)\n",
            "====> Epoch: 6 Average loss: 35.7475, accuracy: 25.000\n"
          ]
        },
        {
          "output_type": "stream",
          "name": "stderr",
          "text": [
            "100%|██████████| 313/313 [01:15<00:00,  4.16it/s]\n"
          ]
        },
        {
          "output_type": "stream",
          "name": "stdout",
          "text": [
            "====> Test set: Average loss: 30.1620, Accuracy: 3303/10000 (33%) \n",
            "\n",
            "Train Epoch: 7 [    0/45000 ( 0%)]\tLoss: 38.6125 (25%)\n",
            "Train Epoch: 7 [ 1280/45000 ( 3%)]\tLoss: 36.1649 (27%)\n",
            "Train Epoch: 7 [ 2560/45000 ( 6%)]\tLoss: 36.7134 (23%)\n",
            "Train Epoch: 7 [ 3840/45000 ( 9%)]\tLoss: 35.0016 (27%)\n",
            "Train Epoch: 7 [ 5120/45000 (11%)]\tLoss: 36.5088 (25%)\n",
            "Train Epoch: 7 [ 6400/45000 (14%)]\tLoss: 37.2073 (24%)\n",
            "Train Epoch: 7 [ 7680/45000 (17%)]\tLoss: 34.3953 (24%)\n",
            "Train Epoch: 7 [ 8960/45000 (20%)]\tLoss: 35.8678 (26%)\n",
            "Train Epoch: 7 [10240/45000 (23%)]\tLoss: 35.4634 (23%)\n",
            "Train Epoch: 7 [11520/45000 (26%)]\tLoss: 34.2439 (29%)\n",
            "Train Epoch: 7 [12800/45000 (28%)]\tLoss: 37.3824 (24%)\n",
            "Train Epoch: 7 [14080/45000 (31%)]\tLoss: 34.4488 (23%)\n",
            "Train Epoch: 7 [15360/45000 (34%)]\tLoss: 35.5095 (27%)\n",
            "Train Epoch: 7 [16640/45000 (37%)]\tLoss: 36.3484 (22%)\n",
            "Train Epoch: 7 [17920/45000 (40%)]\tLoss: 36.1636 (27%)\n",
            "Train Epoch: 7 [19200/45000 (43%)]\tLoss: 35.3748 (29%)\n",
            "Train Epoch: 7 [20480/45000 (45%)]\tLoss: 36.4869 (23%)\n",
            "Train Epoch: 7 [21760/45000 (48%)]\tLoss: 36.6466 (20%)\n",
            "Train Epoch: 7 [23040/45000 (51%)]\tLoss: 35.2415 (31%)\n",
            "Train Epoch: 7 [24320/45000 (54%)]\tLoss: 37.5568 (21%)\n",
            "Train Epoch: 7 [25600/45000 (57%)]\tLoss: 34.2846 (23%)\n",
            "Train Epoch: 7 [26880/45000 (60%)]\tLoss: 35.6298 (18%)\n",
            "Train Epoch: 7 [28160/45000 (62%)]\tLoss: 36.6400 (24%)\n",
            "Train Epoch: 7 [29440/45000 (65%)]\tLoss: 35.8857 (26%)\n",
            "Train Epoch: 7 [30720/45000 (68%)]\tLoss: 32.7363 (27%)\n",
            "Train Epoch: 7 [32000/45000 (71%)]\tLoss: 35.9515 (20%)\n",
            "Train Epoch: 7 [33280/45000 (74%)]\tLoss: 34.3286 (27%)\n",
            "Train Epoch: 7 [34560/45000 (77%)]\tLoss: 37.2075 (26%)\n",
            "Train Epoch: 7 [35840/45000 (80%)]\tLoss: 36.0946 (32%)\n",
            "Train Epoch: 7 [37120/45000 (82%)]\tLoss: 37.1059 (25%)\n",
            "Train Epoch: 7 [38400/45000 (85%)]\tLoss: 36.0988 (30%)\n",
            "Train Epoch: 7 [39680/45000 (88%)]\tLoss: 35.8065 (30%)\n",
            "Train Epoch: 7 [40960/45000 (91%)]\tLoss: 33.4774 (30%)\n",
            "Train Epoch: 7 [42240/45000 (94%)]\tLoss: 37.3039 (24%)\n",
            "Train Epoch: 7 [43520/45000 (97%)]\tLoss: 35.3115 (25%)\n",
            "Train Epoch: 7 [44800/45000 (99%)]\tLoss: 35.7323 (23%)\n",
            "====> Epoch: 7 Average loss: 35.6897, accuracy: 25.076\n"
          ]
        },
        {
          "output_type": "stream",
          "name": "stderr",
          "text": [
            "100%|██████████| 313/313 [01:17<00:00,  4.06it/s]\n"
          ]
        },
        {
          "output_type": "stream",
          "name": "stdout",
          "text": [
            "====> Test set: Average loss: 30.1467, Accuracy: 3296/10000 (33%) \n",
            "\n",
            "Train Epoch: 8 [    0/45000 ( 0%)]\tLoss: 32.9044 (23%)\n",
            "Train Epoch: 8 [ 1280/45000 ( 3%)]\tLoss: 37.7747 (19%)\n",
            "Train Epoch: 8 [ 2560/45000 ( 6%)]\tLoss: 36.3615 (27%)\n",
            "Train Epoch: 8 [ 3840/45000 ( 9%)]\tLoss: 36.9722 (27%)\n",
            "Train Epoch: 8 [ 5120/45000 (11%)]\tLoss: 34.6653 (24%)\n",
            "Train Epoch: 8 [ 6400/45000 (14%)]\tLoss: 35.3504 (27%)\n",
            "Train Epoch: 8 [ 7680/45000 (17%)]\tLoss: 35.8413 (25%)\n",
            "Train Epoch: 8 [ 8960/45000 (20%)]\tLoss: 35.9193 (25%)\n",
            "Train Epoch: 8 [10240/45000 (23%)]\tLoss: 38.3968 (28%)\n",
            "Train Epoch: 8 [11520/45000 (26%)]\tLoss: 35.6141 (30%)\n",
            "Train Epoch: 8 [12800/45000 (28%)]\tLoss: 35.6526 (25%)\n",
            "Train Epoch: 8 [14080/45000 (31%)]\tLoss: 37.1450 (22%)\n",
            "Train Epoch: 8 [15360/45000 (34%)]\tLoss: 36.6806 (21%)\n",
            "Train Epoch: 8 [16640/45000 (37%)]\tLoss: 36.8838 (30%)\n",
            "Train Epoch: 8 [17920/45000 (40%)]\tLoss: 35.9094 (21%)\n",
            "Train Epoch: 8 [19200/45000 (43%)]\tLoss: 35.8134 (20%)\n",
            "Train Epoch: 8 [20480/45000 (45%)]\tLoss: 36.0571 (20%)\n",
            "Train Epoch: 8 [21760/45000 (48%)]\tLoss: 33.4307 (24%)\n",
            "Train Epoch: 8 [23040/45000 (51%)]\tLoss: 34.8269 (28%)\n",
            "Train Epoch: 8 [24320/45000 (54%)]\tLoss: 35.6521 (16%)\n",
            "Train Epoch: 8 [25600/45000 (57%)]\tLoss: 37.7446 (24%)\n",
            "Train Epoch: 8 [26880/45000 (60%)]\tLoss: 36.0661 (24%)\n",
            "Train Epoch: 8 [28160/45000 (62%)]\tLoss: 35.4599 (24%)\n",
            "Train Epoch: 8 [29440/45000 (65%)]\tLoss: 33.3287 (28%)\n",
            "Train Epoch: 8 [30720/45000 (68%)]\tLoss: 34.9679 (26%)\n",
            "Train Epoch: 8 [32000/45000 (71%)]\tLoss: 37.0063 (28%)\n",
            "Train Epoch: 8 [33280/45000 (74%)]\tLoss: 34.9686 (23%)\n",
            "Train Epoch: 8 [34560/45000 (77%)]\tLoss: 34.1713 (29%)\n",
            "Train Epoch: 8 [35840/45000 (80%)]\tLoss: 34.1076 (29%)\n",
            "Train Epoch: 8 [37120/45000 (82%)]\tLoss: 37.1203 (27%)\n",
            "Train Epoch: 8 [38400/45000 (85%)]\tLoss: 36.5106 (27%)\n",
            "Train Epoch: 8 [39680/45000 (88%)]\tLoss: 36.9095 (23%)\n",
            "Train Epoch: 8 [40960/45000 (91%)]\tLoss: 34.5246 (24%)\n",
            "Train Epoch: 8 [42240/45000 (94%)]\tLoss: 35.8310 (27%)\n",
            "Train Epoch: 8 [43520/45000 (97%)]\tLoss: 37.4353 (19%)\n",
            "Train Epoch: 8 [44800/45000 (99%)]\tLoss: 34.8129 (16%)\n",
            "====> Epoch: 8 Average loss: 35.6792, accuracy: 25.156\n"
          ]
        },
        {
          "output_type": "stream",
          "name": "stderr",
          "text": [
            "100%|██████████| 313/313 [01:18<00:00,  3.98it/s]\n"
          ]
        },
        {
          "output_type": "stream",
          "name": "stdout",
          "text": [
            "====> Test set: Average loss: 30.1516, Accuracy: 3374/10000 (34%) \n",
            "\n",
            "Train Epoch: 9 [    0/45000 ( 0%)]\tLoss: 35.1127 (29%)\n",
            "Train Epoch: 9 [ 1280/45000 ( 3%)]\tLoss: 35.1590 (20%)\n",
            "Train Epoch: 9 [ 2560/45000 ( 6%)]\tLoss: 35.7489 (27%)\n",
            "Train Epoch: 9 [ 3840/45000 ( 9%)]\tLoss: 34.9208 (23%)\n",
            "Train Epoch: 9 [ 5120/45000 (11%)]\tLoss: 34.8189 (27%)\n",
            "Train Epoch: 9 [ 6400/45000 (14%)]\tLoss: 33.9132 (27%)\n",
            "Train Epoch: 9 [ 7680/45000 (17%)]\tLoss: 35.2157 (30%)\n",
            "Train Epoch: 9 [ 8960/45000 (20%)]\tLoss: 38.0960 (23%)\n",
            "Train Epoch: 9 [10240/45000 (23%)]\tLoss: 35.1188 (22%)\n",
            "Train Epoch: 9 [11520/45000 (26%)]\tLoss: 34.6378 (21%)\n",
            "Train Epoch: 9 [12800/45000 (28%)]\tLoss: 36.1717 (18%)\n",
            "Train Epoch: 9 [14080/45000 (31%)]\tLoss: 38.0799 (23%)\n",
            "Train Epoch: 9 [15360/45000 (34%)]\tLoss: 35.1574 (27%)\n",
            "Train Epoch: 9 [16640/45000 (37%)]\tLoss: 36.7525 (26%)\n",
            "Train Epoch: 9 [17920/45000 (40%)]\tLoss: 34.1364 (27%)\n",
            "Train Epoch: 9 [19200/45000 (43%)]\tLoss: 35.5836 (25%)\n",
            "Train Epoch: 9 [20480/45000 (45%)]\tLoss: 35.7026 (24%)\n",
            "Train Epoch: 9 [21760/45000 (48%)]\tLoss: 35.0632 (19%)\n",
            "Train Epoch: 9 [23040/45000 (51%)]\tLoss: 34.4094 (22%)\n",
            "Train Epoch: 9 [24320/45000 (54%)]\tLoss: 36.6287 (28%)\n",
            "Train Epoch: 9 [25600/45000 (57%)]\tLoss: 36.3422 (25%)\n",
            "Train Epoch: 9 [26880/45000 (60%)]\tLoss: 36.6406 (23%)\n",
            "Train Epoch: 9 [28160/45000 (62%)]\tLoss: 34.3695 (29%)\n",
            "Train Epoch: 9 [29440/45000 (65%)]\tLoss: 35.2665 (23%)\n",
            "Train Epoch: 9 [30720/45000 (68%)]\tLoss: 36.4869 (26%)\n",
            "Train Epoch: 9 [32000/45000 (71%)]\tLoss: 35.5640 (24%)\n",
            "Train Epoch: 9 [33280/45000 (74%)]\tLoss: 35.4347 (23%)\n",
            "Train Epoch: 9 [34560/45000 (77%)]\tLoss: 36.1269 (33%)\n",
            "Train Epoch: 9 [35840/45000 (80%)]\tLoss: 34.2100 (25%)\n",
            "Train Epoch: 9 [37120/45000 (82%)]\tLoss: 39.9713 (27%)\n",
            "Train Epoch: 9 [38400/45000 (85%)]\tLoss: 36.0936 (30%)\n",
            "Train Epoch: 9 [39680/45000 (88%)]\tLoss: 37.7720 (26%)\n",
            "Train Epoch: 9 [40960/45000 (91%)]\tLoss: 35.2111 (19%)\n",
            "Train Epoch: 9 [42240/45000 (94%)]\tLoss: 36.7191 (21%)\n",
            "Train Epoch: 9 [43520/45000 (97%)]\tLoss: 35.0804 (22%)\n",
            "Train Epoch: 9 [44800/45000 (99%)]\tLoss: 35.6099 (20%)\n",
            "====> Epoch: 9 Average loss: 35.5653, accuracy: 25.142\n"
          ]
        },
        {
          "output_type": "stream",
          "name": "stderr",
          "text": [
            "100%|██████████| 313/313 [01:13<00:00,  4.27it/s]\n"
          ]
        },
        {
          "output_type": "stream",
          "name": "stdout",
          "text": [
            "====> Test set: Average loss: 30.3021, Accuracy: 3456/10000 (35%) \n",
            "\n",
            "Train Epoch: 10 [    0/45000 ( 0%)]\tLoss: 36.9310 (23%)\n",
            "Train Epoch: 10 [ 1280/45000 ( 3%)]\tLoss: 37.9443 (19%)\n",
            "Train Epoch: 10 [ 2560/45000 ( 6%)]\tLoss: 36.3445 (22%)\n",
            "Train Epoch: 10 [ 3840/45000 ( 9%)]\tLoss: 35.2010 (26%)\n",
            "Train Epoch: 10 [ 5120/45000 (11%)]\tLoss: 37.1632 (23%)\n",
            "Train Epoch: 10 [ 6400/45000 (14%)]\tLoss: 34.3039 (29%)\n",
            "Train Epoch: 10 [ 7680/45000 (17%)]\tLoss: 33.3150 (22%)\n",
            "Train Epoch: 10 [ 8960/45000 (20%)]\tLoss: 35.1870 (23%)\n",
            "Train Epoch: 10 [10240/45000 (23%)]\tLoss: 39.2924 (23%)\n",
            "Train Epoch: 10 [11520/45000 (26%)]\tLoss: 38.1253 (32%)\n",
            "Train Epoch: 10 [12800/45000 (28%)]\tLoss: 33.3363 (30%)\n",
            "Train Epoch: 10 [14080/45000 (31%)]\tLoss: 35.3059 (26%)\n",
            "Train Epoch: 10 [15360/45000 (34%)]\tLoss: 37.1426 (22%)\n",
            "Train Epoch: 10 [16640/45000 (37%)]\tLoss: 34.0469 (32%)\n",
            "Train Epoch: 10 [17920/45000 (40%)]\tLoss: 34.7919 (20%)\n",
            "Train Epoch: 10 [19200/45000 (43%)]\tLoss: 37.9034 (27%)\n",
            "Train Epoch: 10 [20480/45000 (45%)]\tLoss: 36.8498 (24%)\n",
            "Train Epoch: 10 [21760/45000 (48%)]\tLoss: 34.4770 (24%)\n",
            "Train Epoch: 10 [23040/45000 (51%)]\tLoss: 36.2797 (28%)\n",
            "Train Epoch: 10 [24320/45000 (54%)]\tLoss: 36.8397 (30%)\n",
            "Train Epoch: 10 [25600/45000 (57%)]\tLoss: 36.3897 (34%)\n",
            "Train Epoch: 10 [26880/45000 (60%)]\tLoss: 35.8880 (32%)\n",
            "Train Epoch: 10 [28160/45000 (62%)]\tLoss: 35.3532 (29%)\n",
            "Train Epoch: 10 [29440/45000 (65%)]\tLoss: 36.4354 (28%)\n",
            "Train Epoch: 10 [30720/45000 (68%)]\tLoss: 35.1159 (23%)\n",
            "Train Epoch: 10 [32000/45000 (71%)]\tLoss: 34.6307 (30%)\n",
            "Train Epoch: 10 [33280/45000 (74%)]\tLoss: 34.2755 (20%)\n",
            "Train Epoch: 10 [34560/45000 (77%)]\tLoss: 35.2715 (30%)\n",
            "Train Epoch: 10 [35840/45000 (80%)]\tLoss: 38.3411 (26%)\n",
            "Train Epoch: 10 [37120/45000 (82%)]\tLoss: 34.6928 (23%)\n",
            "Train Epoch: 10 [38400/45000 (85%)]\tLoss: 36.7859 (21%)\n",
            "Train Epoch: 10 [39680/45000 (88%)]\tLoss: 36.1120 (24%)\n",
            "Train Epoch: 10 [40960/45000 (91%)]\tLoss: 36.0934 (27%)\n",
            "Train Epoch: 10 [42240/45000 (94%)]\tLoss: 35.0253 (22%)\n",
            "Train Epoch: 10 [43520/45000 (97%)]\tLoss: 35.8133 (29%)\n",
            "Train Epoch: 10 [44800/45000 (99%)]\tLoss: 36.6033 (29%)\n",
            "====> Epoch: 10 Average loss: 35.5299, accuracy: 25.020\n"
          ]
        },
        {
          "output_type": "stream",
          "name": "stderr",
          "text": [
            "100%|██████████| 313/313 [01:15<00:00,  4.16it/s]\n"
          ]
        },
        {
          "output_type": "stream",
          "name": "stdout",
          "text": [
            "====> Test set: Average loss: 29.9455, Accuracy: 3592/10000 (36%) \n",
            "\n"
          ]
        },
        {
          "output_type": "stream",
          "name": "stderr",
          "text": [
            "100%|██████████| 313/313 [01:15<00:00,  4.17it/s]"
          ]
        },
        {
          "output_type": "stream",
          "name": "stdout",
          "text": [
            "====> Test set: Average loss: 29.9455, Accuracy: 3592/10000 (36%) \n",
            "\n"
          ]
        },
        {
          "output_type": "stream",
          "name": "stderr",
          "text": [
            "\n"
          ]
        }
      ]
    },
    {
      "cell_type": "code",
      "source": [
        "torch.save(model, 'trained_model.pt')"
      ],
      "metadata": {
        "id": "5hsRTdECkFe4"
      },
      "execution_count": null,
      "outputs": []
    },
    {
      "cell_type": "code",
      "source": [
        "model= torch.load('trained_model.pt')"
      ],
      "metadata": {
        "id": "r-yHC1GZ442Q"
      },
      "execution_count": null,
      "outputs": []
    },
    {
      "cell_type": "code",
      "source": [
        "# FGSM attack code\n",
        "def fgsm_attack(image, epsilon, data_grad):\n",
        "    # Collect the element-wise sign of the data gradient\n",
        "    sign_data_grad = data_grad.sign()\n",
        "    # Create the perturbed image by adjusting each pixel of the input image\n",
        "    perturbed_image = image + epsilon*sign_data_grad\n",
        "    # Adding clipping to maintain [0,1] range\n",
        "    perturbed_image = torch.clamp(perturbed_image, 0, 1)\n",
        "    # Return the perturbed image\n",
        "    return perturbed_image"
      ],
      "metadata": {
        "id": "6HKSpo8amgmH"
      },
      "execution_count": null,
      "outputs": []
    },
    {
      "cell_type": "code",
      "source": [
        "# Function to Generate advesarial examples using FGSM\n",
        "\n",
        "def adv_gen( model, device, test_loader, epsilon ):\n",
        "\n",
        "    # Accuracy counter\n",
        "    correct = 0\n",
        "    adv_examples = []\n",
        "    adv_dataset=[]\n",
        "\n",
        "    # Loop over all examples in test set\n",
        "    for data, target in test_loader:\n",
        "\n",
        "        # Send the data and label to the device\n",
        "        data, target = data.to(device), target.to(device)\n",
        "        #print(data.shape)\n",
        "        # Set requires_grad attribute of tensor. Important for Attack\n",
        "        data.requires_grad = True\n",
        "\n",
        "        # Forward pass the data through the model\n",
        "        logits, recs, mus, logvars = model(data)\n",
        "        init_pred = logits.max(1, keepdim=True)[1] # get the index of the max log-probability\n",
        "\n",
        "        # If the initial prediction is wrong, dont bother attacking, just move on\n",
        "        #if init_pred.item() != target.item():\n",
        "            #continue\n",
        "\n",
        "        # Calculate the loss\n",
        "        loss = abs_loss_function(data, target, recs, mus, logvars, args.beta)\n",
        "\n",
        "        # Zero all existing gradients\n",
        "        model.zero_grad()\n",
        "\n",
        "        # Calculate gradients of model in backward pass\n",
        "        loss.backward()\n",
        "\n",
        "        # Collect datagrad\n",
        "        data_grad = data.grad.data\n",
        "\n",
        "        # Call FGSM Attack\n",
        "        perturbed_data = fgsm_attack(data, epsilon, data_grad)\n",
        "        # Re-classify the perturbed image\n",
        "        logits, recs, mus, logvars= model(perturbed_data)\n",
        "        # Check for success\n",
        "        final_pred = logits.max(1, keepdim=True)[1] # get the index of the max log-probability\n",
        "\n",
        "        correct += final_pred.eq(target.data.view_as(final_pred)).long().cpu().sum()\n",
        "        adv_ex = perturbed_data.squeeze().detach().cpu().numpy()\n",
        "        adv_examples.append((init_pred, final_pred, adv_ex))\n",
        "        adv_dataset.append((adv_ex , final_pred.numpy()))\n",
        "\n",
        "    # Calculate final accuracy for this epsilon\n",
        "    final_acc = correct/float(len(test_dataset))\n",
        "    #print(\"Epsilon: {}\\tTest Accuracy = {} / {} = {}\".format(epsilon, correct, len(test_dataset), final_acc))\n",
        "    # Return the accuracy and an adversarial example\n",
        "    return final_acc, adv_examples, adv_dataset"
      ],
      "metadata": {
        "id": "kZRUmKA-nBIx"
      },
      "execution_count": null,
      "outputs": []
    },
    {
      "cell_type": "code",
      "source": [
        "import time\n",
        "epsilons = [0.1, 0.2, 0.3]\n",
        "model.eval()\n",
        "accuracies = []\n",
        "examples = []\n",
        "adversarial_dataset=[]\n",
        "# Run test for each epsilon\n",
        "for eps in epsilons:\n",
        "    start= time.time()\n",
        "    acc, ex, adv_dataset = adv_gen(model, device, test_loader, eps)\n",
        "    end= time.time()\n",
        "    # total time taken\n",
        "    print(f\"Runtime of the attack is {end - start} sec\")\n",
        "    examples.append(ex)\n",
        "    accuracies.append(acc)\n",
        "    adversarial_dataset.append(adv_dataset)\n",
        "    print(\"Epsilon: {}\\t Accuracy = {}\".format(eps, acc))\n",
        "    "
      ],
      "metadata": {
        "id": "OwaOAQJFpSR4",
        "colab": {
          "base_uri": "https://localhost:8080/"
        },
        "outputId": "73cfb62c-d728-4946-8f34-d9805eb2d39a"
      },
      "execution_count": null,
      "outputs": [
        {
          "output_type": "stream",
          "name": "stdout",
          "text": [
            "Runtime of the attack is 323.49811935424805 sec\n",
            "Epsilon: 0.1\t Accuracy = 0.2572000026702881\n",
            "Runtime of the attack is 325.780650138855 sec\n",
            "Epsilon: 0.2\t Accuracy = 0.20190000534057617\n",
            "Runtime of the attack is 331.56122612953186 sec\n",
            "Epsilon: 0.3\t Accuracy = 0.1662999987602234\n"
          ]
        }
      ]
    },
    {
      "cell_type": "code",
      "source": [
        "cnt = 0\n",
        "plt.figure(figsize=(12,5))\n",
        "for i in range(len(epsilons)):\n",
        "    for j in range(10):\n",
        "        cnt += 1\n",
        "        plt.subplot(len(epsilons),10,cnt)\n",
        "        plt.xticks([], [])\n",
        "        plt.yticks([], [])\n",
        "        if j == 0:\n",
        "            plt.ylabel(\"Eps: {}\".format(epsilons[i]), fontsize=14)\n",
        "        orig,adv,ex = examples[i][j]\n",
        "        plt.title(\"{} -> {}\".format(orig[1].item(), adv[1].item()))\n",
        "        plt.imshow(ex[1], cmap=\"gray\")\n",
        "plt.tight_layout()\n",
        "plt.show()\n",
        "              "
      ],
      "metadata": {
        "id": "-yWkXjJSpZPb",
        "colab": {
          "base_uri": "https://localhost:8080/",
          "height": 347
        },
        "outputId": "f8c7747e-fc24-45ea-f19e-f21cef228756"
      },
      "execution_count": null,
      "outputs": [
        {
          "output_type": "display_data",
          "data": {
            "image/png": "[encoded data removed]",
            "text/plain": [
              "<Figure size 864x360 with 30 Axes>"
            ]
          },
          "metadata": {}
        }
      ]
    },
    {
      "cell_type": "code",
      "source": [
        "plt.plot(epsilons, accuracies)"
      ],
      "metadata": {
        "colab": {
          "base_uri": "https://localhost:8080/",
          "height": 282
        },
        "id": "oxct-jZbwnVW",
        "outputId": "01da35b1-3779-4451-ce5c-c9e2b4ca0ab3"
      },
      "execution_count": null,
      "outputs": [
        {
          "output_type": "execute_result",
          "data": {
            "text/plain": [
              "[<matplotlib.lines.Line2D at 0x7f23e527ddd0>]"
            ]
          },
          "metadata": {},
          "execution_count": 29
        },
        {
          "output_type": "display_data",
          "data": {
            "image/png": "[encoded data removed]",
            "text/plain": [
              "<Figure size 432x288 with 1 Axes>"
            ]
          },
          "metadata": {
            "needs_background": "light"
          }
        }
      ]
    },
    {
      "cell_type": "code",
      "source": [
        "acc, ex, adv_dataset = adv_gen(model, device, test_loader, 0)"
      ],
      "metadata": {
        "id": "PzOjn2rIxLqS"
      },
      "execution_count": null,
      "outputs": []
    },
    {
      "cell_type": "code",
      "source": [
        "acc"
      ],
      "metadata": {
        "colab": {
          "base_uri": "https://localhost:8080/"
        },
        "id": "Zp8bye3DxrCh",
        "outputId": "f9be7a89-3181-48e0-901a-fc57f225e4e6"
      },
      "execution_count": null,
      "outputs": [
        {
          "output_type": "execute_result",
          "data": {
            "text/plain": [
              "tensor(0.1273)"
            ]
          },
          "metadata": {},
          "execution_count": 32
        }
      ]
    },
    {
      "cell_type": "code",
      "source": [
        "! pip install torchattacks"
      ],
      "metadata": {
        "colab": {
          "base_uri": "https://localhost:8080/"
        },
        "id": "m5UxWlSkzJJC",
        "outputId": "e2836992-4c32-480b-883a-4a7462087ce6"
      },
      "execution_count": null,
      "outputs": [
        {
          "output_type": "stream",
          "name": "stdout",
          "text": [
            "Collecting torchattacks\n",
            "  Downloading torchattacks-3.2.4-py3-none-any.whl (102 kB)\n",
            "\u001b[?25l\r\u001b[K     |███▏                            | 10 kB 8.8 MB/s eta 0:00:01\r\u001b[K     |██████▍                         | 20 kB 9.8 MB/s eta 0:00:01\r\u001b[K     |█████████▋                      | 30 kB 8.1 MB/s eta 0:00:01\r\u001b[K     |████████████▉                   | 40 kB 7.3 MB/s eta 0:00:01\r\u001b[K     |████████████████                | 51 kB 4.3 MB/s eta 0:00:01\r\u001b[K     |███████████████████▎            | 61 kB 4.5 MB/s eta 0:00:01\r\u001b[K     |██████████████████████▍         | 71 kB 4.6 MB/s eta 0:00:01\r\u001b[K     |█████████████████████████▋      | 81 kB 5.2 MB/s eta 0:00:01\r\u001b[K     |████████████████████████████▉   | 92 kB 4.0 MB/s eta 0:00:01\r\u001b[K     |████████████████████████████████| 102 kB 3.4 MB/s \n",
            "\u001b[?25hInstalling collected packages: torchattacks\n",
            "Successfully installed torchattacks-3.2.4\n"
          ]
        }
      ]
    },
    {
      "cell_type": "code",
      "source": [
        "import torchattacks"
      ],
      "metadata": {
        "id": "TCDmt1790GZ_"
      },
      "execution_count": null,
      "outputs": []
    },
    {
      "cell_type": "code",
      "source": [
        "# Function to Generate advesarial examples using PGD\n",
        "\n",
        "def adv( model, device, test_loader, epsilon ):\n",
        "\n",
        "    # Accuracy counter\n",
        "    correct = 0\n",
        "    adv_examples = []\n",
        "    adv_dataset=[]\n",
        "    atk = torchattacks.PGDL2(model, eps=epsilon, alpha=2/255, steps=10)\n",
        "    # Loop over all examples in test set\n",
        "    for data, target in test_loader:\n",
        "\n",
        "        # Send the data and label to the device\n",
        "        data, target = data.to(device), target.to(device)\n",
        "        #print(data.shape)\n",
        "        # Set requires_grad attribute of tensor. Important for Attack\n",
        "        data.requires_grad = True\n",
        "\n",
        "        # Forward pass the data through the model\n",
        "        logits, recs, mus, logvars = model(data)\n",
        "        init_pred = logits.max(1, keepdim=True)[1] # get the index of the max log-probability\n",
        "\n",
        "        # If the initial prediction is wrong, dont bother attacking, just move on\n",
        "        #if init_pred.item() != target.item():\n",
        "            #continue\n",
        "\n",
        "        # Calculate the loss\n",
        "        loss = abs_loss_function(data, target, recs, mus, logvars, args.beta)\n",
        "\n",
        "        # Zero all existing gradients\n",
        "        model.zero_grad()\n",
        "\n",
        "        # Calculate gradients of model in backward pass\n",
        "        loss.backward()\n",
        "\n",
        "        # Collect datagrad\n",
        "        data_grad = data.grad.data\n",
        "\n",
        "        # Call FGSM Attack\n",
        "        perturbed_data = atk(data, target)\n",
        "        # Re-classify the perturbed image\n",
        "        logits, recs, mus, logvars= model(perturbed_data)\n",
        "        # Check for success\n",
        "        final_pred = logits.max(1, keepdim=True)[1] # get the index of the max log-probability\n",
        "\n",
        "        correct += final_pred.eq(target.data.view_as(final_pred)).long().cpu().sum()\n",
        "        adv_ex = perturbed_data.squeeze().detach().cpu().numpy()\n",
        "        adv_examples.append((init_pred, final_pred, adv_ex))\n",
        "        adv_dataset.append((adv_ex , final_pred.numpy()))\n",
        "\n",
        "    # Calculate final accuracy for this epsilon\n",
        "    final_acc = correct/float(len(test_dataset))\n",
        "    #print(\"Epsilon: {}\\tTest Accuracy = {} / {} = {}\".format(epsilon, correct, len(test_dataset), final_acc))\n",
        "    # Return the accuracy and an adversarial example\n",
        "    return final_acc, adv_examples, adv_dataset"
      ],
      "metadata": {
        "id": "Su9t4xLv0Fuq"
      },
      "execution_count": null,
      "outputs": []
    },
    {
      "cell_type": "code",
      "source": [
        "import time\n",
        "epsilons = [0.1, 0.2, 0.3]\n",
        "model.eval()\n",
        "accuracies = []\n",
        "examples = []\n",
        "adversarial_dataset=[]\n",
        "# Run test for each epsilon\n",
        "for eps in epsilons:\n",
        "    start= time.time()\n",
        "    acc, ex, adv_dataset = adv(model, device, test_loader, eps)\n",
        "    end= time.time()\n",
        "    # total time taken\n",
        "    print(f\"Runtime of the attack is {end - start} sec\")\n",
        "    examples.append(ex)\n",
        "    accuracies.append(acc)\n",
        "    adversarial_dataset.append(adv_dataset)\n",
        "    print(\"Epsilon: {}\\t Accuracy = {}\".format(eps, acc))"
      ],
      "metadata": {
        "id": "dBi4ppqm0I06"
      },
      "execution_count": null,
      "outputs": []
    },
    {
      "cell_type": "code",
      "source": [
        ""
      ],
      "metadata": {
        "id": "4zUcy_xX0o9X"
      },
      "execution_count": null,
      "outputs": []
    }
  ]
}